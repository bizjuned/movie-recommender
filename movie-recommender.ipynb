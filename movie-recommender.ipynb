{
  "cells": [
    {
      "cell_type": "markdown",
      "metadata": {
        "id": "view-in-github",
        "colab_type": "text"
      },
      "source": [
        "<a href=\"https://colab.research.google.com/github/bizjuned/movie-recommender/blob/main/movie-recommender.ipynb\" target=\"_parent\"><img src=\"https://colab.research.google.com/assets/colab-badge.svg\" alt=\"Open In Colab\"/></a>"
      ]
    },
    {
      "cell_type": "markdown",
      "metadata": {
        "id": "Wf5KrEb6vrkR"
      },
      "source": [
        "# Movie recommender\n",
        "\n",
        "##  Step 1: Read reviews data\n",
        "```\n",
        "import pandas as pd\n",
        "import zipfile\n",
        "import urllib.request\n",
        "\n",
        "# Download and extract MovieLens 1M dataset\n",
        "url = \"http://files.grouplens.org/datasets/movielens/ml-1m.zip\"\n",
        "urllib.request.urlretrieve(url, \"ml-1m.zip\")\n",
        "\n",
        "with zipfile.ZipFile(\"ml-1m.zip\", \"r\") as zip_ref:\n",
        "    zip_ref.extractall(\".\")\n",
        "\n",
        "# Load ratings and movies\n",
        "ratings = pd.read_csv(\"ml-1m/ratings.dat\", sep=\"::\", engine=\"python\", names=[\"userId\", \"movieId\", \"rating\", \"timestamp\"])\n",
        "movies = pd.read_csv(\"ml-1m/movies.dat\", sep=\"::\", engine=\"python\", names=[\"movieId\", \"title\", \"genres\"])\n",
        "\n",
        "ratings.head()\n",
        "\n",
        "```\n",
        "\n",
        "##  Step 2: Build a Baseline Recommender\n",
        "\n",
        "\n",
        "\n"
      ]
    }
  ],
  "metadata": {
    "colab": {
      "name": "Welcome to Colab",
      "provenance": [],
      "include_colab_link": true
    },
    "kernelspec": {
      "display_name": "Python 3",
      "name": "python3"
    }
  },
  "nbformat": 4,
  "nbformat_minor": 0
}